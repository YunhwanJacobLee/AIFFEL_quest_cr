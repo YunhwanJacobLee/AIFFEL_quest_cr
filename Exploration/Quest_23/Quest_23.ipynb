{
  "nbformat": 4,
  "nbformat_minor": 0,
  "metadata": {
    "colab": {
      "provenance": [],
      "gpuType": "T4"
    },
    "kernelspec": {
      "name": "python3",
      "display_name": "Python 3"
    },
    "language_info": {
      "name": "python"
    },
    "accelerator": "GPU"
  },
  "cells": [
    {
      "cell_type": "markdown",
      "source": [
        "**1. 데이터 준비**\n",
        "\n",
        "- 코랩에서 구동해야 했기에 데이터를 다운로드 받고 구글 드라이브에 다시 업로드해서 구글 드라이브 경로로 진행\n",
        "- 데이터 개수 98401\n",
        "\n",
        "**2. 데이터 전처리**\n",
        "\n",
        "- 데이터 분할\n",
        "- 데이터 개수 98379\n",
        "- 노드와 개수가 비슷해서 데이터 개수를 줄이지 않고 그냥 진행\n",
        "\n",
        "**3. 모델 설계**\n",
        "\n",
        "- LSTM은 셀 상태를 유지하여 자연어 처리에서 긴 문맥 정보를 잘 반영\n",
        "- 에포크를 늘려도 10 에포크 이전에 과대적합이 일어나서 성능향상을 기대하기 어려움\n",
        "\n",
        "**4. 모델 훈련**\n",
        "\n",
        "**5. 인퍼런스 모델 구현 및 모델 테스트**\n",
        "\n",
        "- 같은 단어의 반복\n",
        "- 실제와 예측의 단어가 하나도 맞지 않은 것으로 보아 훈련이 제대로 되지 않음\n",
        "\n",
        "**6. 모델 성능 평가**"
      ],
      "metadata": {
        "id": "TKBcct9D4mLC"
      }
    },
    {
      "cell_type": "markdown",
      "source": [
        "# 1. 데이터 준비"
      ],
      "metadata": {
        "id": "99K5Dh07fcER"
      }
    },
    {
      "cell_type": "code",
      "source": [
        "import pandas as pd\n",
        "import numpy as np\n",
        "import re\n",
        "import string\n",
        "import matplotlib.pyplot as plt\n",
        "import tensorflow as tf\n",
        "from tensorflow.keras.preprocessing.text import Tokenizer\n",
        "from tensorflow.keras.preprocessing.sequence import pad_sequences\n",
        "from tensorflow.keras.layers import Input, LSTM, Embedding, Dense, Concatenate, Attention\n",
        "from tensorflow.keras.models import Model\n",
        "from sklearn.model_selection import train_test_split\n",
        "from nltk.corpus import stopwords\n",
        "import nltk\n",
        "from bs4 import BeautifulSoup\n",
        "\n",
        "# NLTK 자원 다운로드\n",
        "nltk.download('stopwords')\n",
        "nltk.download('punkt')\n",
        "\n",
        "# 데이터 로드\n",
        "file_path = \"/content/drive/MyDrive/news_summary_more.csv\"\n",
        "df = pd.read_csv(file_path)\n",
        "\n",
        "# 데이터 확인\n",
        "print(\"데이터 크기:\", df.shape)\n",
        "print(\"컬럼명:\", df.columns.tolist())\n",
        "print(\"Null 값 개수:\", df.isnull().sum())"
      ],
      "metadata": {
        "colab": {
          "base_uri": "https://localhost:8080/"
        },
        "id": "DUn8XI-hs3wv",
        "outputId": "617d03ed-74d8-49e2-8cb3-455a4f46c17c"
      },
      "execution_count": null,
      "outputs": [
        {
          "output_type": "stream",
          "name": "stderr",
          "text": [
            "[nltk_data] Downloading package stopwords to /root/nltk_data...\n",
            "[nltk_data]   Package stopwords is already up-to-date!\n",
            "[nltk_data] Downloading package punkt to /root/nltk_data...\n",
            "[nltk_data]   Unzipping tokenizers/punkt.zip.\n"
          ]
        },
        {
          "output_type": "stream",
          "name": "stdout",
          "text": [
            "데이터 크기: (98401, 2)\n",
            "컬럼명: ['headlines', 'text']\n",
            "Null 값 개수: headlines    0\n",
            "text         0\n",
            "dtype: int64\n"
          ]
        }
      ]
    },
    {
      "cell_type": "markdown",
      "source": [
        "# 2. 데이터 전처리"
      ],
      "metadata": {
        "id": "Oci_-QBWfmkY"
      }
    },
    {
      "cell_type": "code",
      "source": [
        "# 1. 중복 샘플 제거\n",
        "df = df.drop_duplicates()\n",
        "\n",
        "# 2. Null 값이 있는 행 제거\n",
        "df = df.dropna()\n",
        "\n",
        "print(\"전처리 후 데이터 크기:\", df.shape)\n",
        "\n",
        "# 3. 불용어 설정 (영어 불용어 사용)\n",
        "stop_words = set(stopwords.words('english'))\n",
        "\n",
        "# 4. 텍스트 전처리 함수 정의\n",
        "def preprocess_text(text):\n",
        "    # HTML 태그 제거\n",
        "    text = BeautifulSoup(text, \"html.parser\").get_text()\n",
        "\n",
        "    # 소문자화\n",
        "    text = text.lower()\n",
        "\n",
        "    # 괄호로 닫힌 문자열 제거 (...)\n",
        "    text = re.sub(r'\\([^)]*\\)', '', text)\n",
        "\n",
        "    # 쌍따옴표 제거\n",
        "    text = text.replace('\"', '')\n",
        "\n",
        "    # 약어 정규화\n",
        "    text = re.sub(r\"won't\", \"will not\", text)\n",
        "    text = re.sub(r\"can\\'t\", \"can not\", text)\n",
        "    text = re.sub(r\"n\\'t\", \" not\", text)\n",
        "    text = re.sub(r\"\\'re\", \" are\", text)\n",
        "    text = re.sub(r\"\\'s\", \"\", text)  # 소유격 제거\n",
        "    text = re.sub(r\"\\'d\", \" would\", text)\n",
        "    text = re.sub(r\"\\'ll\", \" will\", text)\n",
        "    text = re.sub(r\"\\'t\", \" not\", text)\n",
        "    text = re.sub(r\"\\'ve\", \" have\", text)\n",
        "    text = re.sub(r\"\\'m\", \" am\", text)\n",
        "\n",
        "    # 영어 외 문자(숫자, 특수문자 등) 공백으로 변환\n",
        "    text = re.sub(r'[^\\w\\s]', ' ', text)\n",
        "    text = re.sub(r'\\d+', ' ', text)\n",
        "\n",
        "    # m이 3개 이상이면 2개로 변경\n",
        "    text = re.sub(r'm{3,}', 'mm', text)\n",
        "\n",
        "    # 여러 공백을 하나로 변환\n",
        "    text = re.sub(r'\\s+', ' ', text).strip()\n",
        "\n",
        "    return text\n",
        "\n",
        "# 5. 텍스트에서 불용어 제거하는 함수\n",
        "def remove_stopwords(text):\n",
        "    words = text.split()\n",
        "    filtered_words = [word for word in words if word not in stop_words]\n",
        "    return ' '.join(filtered_words)\n",
        "\n",
        "# 6. 전체 text 컬럼 전처리\n",
        "df['cleaned_text'] = df['text'].map(preprocess_text)\n",
        "df['cleaned_text'] = df['cleaned_text'].map(remove_stopwords)\n",
        "\n",
        "# 7. 헤드라인 전처리 (불용어 제거하지 않음)\n",
        "df['cleaned_headline'] = df['headlines'].map(preprocess_text)\n",
        "\n",
        "# 전처리 결과 확인\n",
        "print(\"\\n원본 텍스트 예시:\")\n",
        "print(df['text'].iloc[0][:200])\n",
        "print(\"\\n전처리된 텍스트 예시:\")\n",
        "print(df['cleaned_text'].iloc[0][:200])\n",
        "print(\"\\n원본 헤드라인 예시:\")\n",
        "print(df['headlines'].iloc[0])\n",
        "print(\"\\n전처리된 헤드라인 예시:\")\n",
        "print(df['cleaned_headline'].iloc[0])"
      ],
      "metadata": {
        "colab": {
          "base_uri": "https://localhost:8080/"
        },
        "id": "vJTa1HDrs6OI",
        "outputId": "b1cadf2e-8cf1-482e-8aee-385e27881c1b"
      },
      "execution_count": null,
      "outputs": [
        {
          "output_type": "stream",
          "name": "stdout",
          "text": [
            "전처리 후 데이터 크기: (98379, 2)\n",
            "\n",
            "원본 텍스트 예시:\n",
            "Saurav Kant, an alumnus of upGrad and IIIT-B's PG Program in Machine learning and Artificial Intelligence, was a Sr Systems Engineer at Infosys with almost 5 years of work experience. The program and \n",
            "\n",
            "전처리된 텍스트 예시:\n",
            "saurav kant alumnus upgrad iiit b pg program machine learning artificial intelligence sr systems engineer infosys almost years work experience program upgrad degree career support helped transition da\n",
            "\n",
            "원본 헤드라인 예시:\n",
            "upGrad learner switches to career in ML & Al with 90% salary hike\n",
            "\n",
            "전처리된 헤드라인 예시:\n",
            "upgrad learner switches to career in ml al with salary hike\n"
          ]
        }
      ]
    },
    {
      "cell_type": "code",
      "source": [
        "# 훈련, 검증, 테스트 셋 분리\n",
        "train_df, test_df = train_test_split(df, test_size=0.1, random_state=42)\n",
        "train_df, val_df = train_test_split(train_df, test_size=0.1, random_state=42)\n",
        "\n",
        "# 텍스트 및 헤드라인 데이터 추출\n",
        "train_texts = train_df['cleaned_text'].values\n",
        "train_headlines = train_df['cleaned_headline'].values\n",
        "\n",
        "val_texts = val_df['cleaned_text'].values\n",
        "val_headlines = val_df['cleaned_headline'].values\n",
        "\n",
        "test_texts = test_df['cleaned_text'].values\n",
        "test_headlines = test_df['cleaned_headline'].values\n",
        "\n",
        "# Tokenizer 구성 (텍스트용)\n",
        "text_tokenizer = Tokenizer()\n",
        "text_tokenizer.fit_on_texts(train_texts)\n",
        "text_vocab_size = len(text_tokenizer.word_index) + 1\n",
        "\n",
        "# Tokenizer 구성 (헤드라인용)\n",
        "headline_tokenizer = Tokenizer()\n",
        "headline_tokenizer.fit_on_texts(train_headlines)\n",
        "headline_vocab_size = len(headline_tokenizer.word_index) + 1\n",
        "\n",
        "# 시퀀스 변환 및 패딩\n",
        "# 텍스트 시퀀스\n",
        "train_text_seqs = text_tokenizer.texts_to_sequences(train_texts)\n",
        "val_text_seqs = text_tokenizer.texts_to_sequences(val_texts)\n",
        "test_text_seqs = text_tokenizer.texts_to_sequences(test_texts)\n",
        "\n",
        "# 헤드라인 시퀀스 (시작 및 종료 토큰 추가)\n",
        "train_headline_seqs = headline_tokenizer.texts_to_sequences(train_headlines)\n",
        "val_headline_seqs = headline_tokenizer.texts_to_sequences(val_headlines)\n",
        "test_headline_seqs = headline_tokenizer.texts_to_sequences(test_headlines)\n",
        "\n",
        "# 시퀀스 길이 확인\n",
        "max_text_len = max([len(seq) for seq in train_text_seqs])\n",
        "max_headline_len = max([len(seq) for seq in train_headline_seqs])\n",
        "\n",
        "# 시퀀스 길이 제한 (너무 긴 경우 모델 학습이 어려울 수 있음)\n",
        "max_text_len = min(max_text_len, 500)\n",
        "max_headline_len = min(max_headline_len, 50)\n",
        "\n",
        "# 패딩 적용\n",
        "train_text_padded = pad_sequences(train_text_seqs, maxlen=max_text_len, padding='post')\n",
        "val_text_padded = pad_sequences(val_text_seqs, maxlen=max_text_len, padding='post')\n",
        "test_text_padded = pad_sequences(test_text_seqs, maxlen=max_text_len, padding='post')\n",
        "\n",
        "train_headline_padded = pad_sequences(train_headline_seqs, maxlen=max_headline_len, padding='post')\n",
        "val_headline_padded = pad_sequences(val_headline_seqs, maxlen=max_headline_len, padding='post')\n",
        "test_headline_padded = pad_sequences(test_headline_seqs, maxlen=max_headline_len, padding='post')\n",
        "\n",
        "# 디코더 입력 및 타겟 생성 (teacher forcing)\n",
        "# 디코더 입력: <start> + 헤드라인\n",
        "# 디코더 타겟: 헤드라인 + <end>\n",
        "\n",
        "# <start>와 <end> 토큰 정의\n",
        "start_token = headline_vocab_size\n",
        "end_token = headline_vocab_size + 1\n",
        "headline_vocab_size += 2  # vocab_size 업데이트\n",
        "\n",
        "# 디코더 입력용 시퀀스 생성\n",
        "decoder_input_train = np.zeros_like(train_headline_padded)\n",
        "decoder_input_val = np.zeros_like(val_headline_padded)\n",
        "decoder_input_test = np.zeros_like(test_headline_padded)\n",
        "\n",
        "# <start> 토큰 추가 및 shift\n",
        "for i in range(len(decoder_input_train)):\n",
        "    decoder_input_train[i][0] = start_token\n",
        "    decoder_input_train[i][1:] = train_headline_padded[i][:-1]\n",
        "\n",
        "for i in range(len(decoder_input_val)):\n",
        "    decoder_input_val[i][0] = start_token\n",
        "    decoder_input_val[i][1:] = val_headline_padded[i][:-1]\n",
        "\n",
        "for i in range(len(decoder_input_test)):\n",
        "    decoder_input_test[i][0] = start_token\n",
        "    decoder_input_test[i][1:] = test_headline_padded[i][:-1]\n",
        "\n",
        "# 타겟 생성 (원-핫 인코딩 대신 희소 형태로 사용)\n",
        "decoder_target_train = np.zeros_like(train_headline_padded)\n",
        "decoder_target_val = np.zeros_like(val_headline_padded)\n",
        "decoder_target_test = np.zeros_like(test_headline_padded)\n",
        "\n",
        "for i in range(len(decoder_target_train)):\n",
        "    decoder_target_train[i] = train_headline_padded[i]\n",
        "    # 빈 부분(0)에 end_token 추가\n",
        "    mask = (decoder_target_train[i] == 0)\n",
        "    if np.any(mask):\n",
        "        decoder_target_train[i][np.argmax(mask)] = end_token\n",
        "\n",
        "for i in range(len(decoder_target_val)):\n",
        "    decoder_target_val[i] = val_headline_padded[i]\n",
        "    mask = (decoder_target_val[i] == 0)\n",
        "    if np.any(mask):\n",
        "        decoder_target_val[i][np.argmax(mask)] = end_token\n",
        "\n",
        "for i in range(len(decoder_target_test)):\n",
        "    decoder_target_test[i] = test_headline_padded[i]\n",
        "    mask = (decoder_target_test[i] == 0)\n",
        "    if np.any(mask):\n",
        "        decoder_target_test[i][np.argmax(mask)] = end_token\n",
        "\n",
        "print(\"데이터 준비 완료\")\n",
        "print(f\"텍스트 어휘 크기: {text_vocab_size}\")\n",
        "print(f\"헤드라인 어휘 크기: {headline_vocab_size}\")\n",
        "print(f\"최대 텍스트 길이: {max_text_len}\")\n",
        "print(f\"최대 헤드라인 길이: {max_headline_len}\")"
      ],
      "metadata": {
        "colab": {
          "base_uri": "https://localhost:8080/"
        },
        "id": "j8_RuPkstFJd",
        "outputId": "261754d4-e9d1-4cba-d9a3-1b450173c597"
      },
      "execution_count": null,
      "outputs": [
        {
          "output_type": "stream",
          "name": "stdout",
          "text": [
            "데이터 준비 완료\n",
            "텍스트 어휘 크기: 72498\n",
            "헤드라인 어휘 크기: 31483\n",
            "최대 텍스트 길이: 62\n",
            "최대 헤드라인 길이: 18\n"
          ]
        }
      ]
    },
    {
      "cell_type": "markdown",
      "source": [
        "# 3. 모델 설계"
      ],
      "metadata": {
        "id": "Se3Ypvqxft0l"
      }
    },
    {
      "cell_type": "code",
      "source": [
        "from tensorflow.keras.layers import Input, LSTM, Embedding, Dense, Concatenate, Attention, AdditiveAttention, TimeDistributed\n",
        "\n",
        "# 모델 파라미터 설정\n",
        "embedding_dim = 128\n",
        "lstm_units = 256\n",
        "batch_size = 64\n",
        "epochs = 10\n",
        "\n",
        "# 인코더 구현\n",
        "encoder_inputs = Input(shape=(max_text_len,))\n",
        "enc_emb = Embedding(text_vocab_size, embedding_dim)(encoder_inputs)\n",
        "encoder_lstm = LSTM(lstm_units, return_sequences=True, return_state=True)\n",
        "encoder_outputs, state_h, state_c = encoder_lstm(enc_emb)\n",
        "\n",
        "# 디코더 구현\n",
        "decoder_inputs = Input(shape=(max_headline_len,))\n",
        "dec_emb = Embedding(headline_vocab_size, embedding_dim)(decoder_inputs)\n",
        "decoder_lstm = LSTM(lstm_units, return_sequences=True, return_state=True)\n",
        "decoder_outputs, _, _ = decoder_lstm(dec_emb, initial_state=[state_h, state_c])\n",
        "\n",
        "# AdditiveAttention 레이어 사용\n",
        "attention = AdditiveAttention()\n",
        "context_vector = attention([decoder_outputs, encoder_outputs])\n",
        "\n",
        "# 어텐션 컨텍스트와 디코더 출력 결합\n",
        "decoder_combined_context = Concatenate()([context_vector, decoder_outputs])\n",
        "\n",
        "# 출력 레이어\n",
        "output = TimeDistributed(Dense(headline_vocab_size, activation=\"softmax\"))(decoder_combined_context)\n",
        "\n",
        "# 모델 정의\n",
        "model = Model([encoder_inputs, decoder_inputs], output)\n",
        "model.compile(optimizer=\"adam\", loss=\"sparse_categorical_crossentropy\", metrics=[\"accuracy\"])\n",
        "\n",
        "# 모델 요약\n",
        "model.summary()"
      ],
      "metadata": {
        "colab": {
          "base_uri": "https://localhost:8080/",
          "height": 641
        },
        "id": "FyJb6CWVttHc",
        "outputId": "4b55cde9-3f65-4d65-aa16-7fd9405ba25c"
      },
      "execution_count": null,
      "outputs": [
        {
          "output_type": "display_data",
          "data": {
            "text/plain": [
              "\u001b[1mModel: \"functional\"\u001b[0m\n"
            ],
            "text/html": [
              "<pre style=\"white-space:pre;overflow-x:auto;line-height:normal;font-family:Menlo,'DejaVu Sans Mono',consolas,'Courier New',monospace\"><span style=\"font-weight: bold\">Model: \"functional\"</span>\n",
              "</pre>\n"
            ]
          },
          "metadata": {}
        },
        {
          "output_type": "display_data",
          "data": {
            "text/plain": [
              "┏━━━━━━━━━━━━━━━━━━━━━┳━━━━━━━━━━━━━━━━━━━┳━━━━━━━━━━━━┳━━━━━━━━━━━━━━━━━━━┓\n",
              "┃\u001b[1m \u001b[0m\u001b[1mLayer (type)       \u001b[0m\u001b[1m \u001b[0m┃\u001b[1m \u001b[0m\u001b[1mOutput Shape     \u001b[0m\u001b[1m \u001b[0m┃\u001b[1m \u001b[0m\u001b[1m   Param #\u001b[0m\u001b[1m \u001b[0m┃\u001b[1m \u001b[0m\u001b[1mConnected to     \u001b[0m\u001b[1m \u001b[0m┃\n",
              "┡━━━━━━━━━━━━━━━━━━━━━╇━━━━━━━━━━━━━━━━━━━╇━━━━━━━━━━━━╇━━━━━━━━━━━━━━━━━━━┩\n",
              "│ input_layer_2       │ (\u001b[38;5;45mNone\u001b[0m, \u001b[38;5;34m62\u001b[0m)        │          \u001b[38;5;34m0\u001b[0m │ -                 │\n",
              "│ (\u001b[38;5;33mInputLayer\u001b[0m)        │                   │            │                   │\n",
              "├─────────────────────┼───────────────────┼────────────┼───────────────────┤\n",
              "│ input_layer_3       │ (\u001b[38;5;45mNone\u001b[0m, \u001b[38;5;34m18\u001b[0m)        │          \u001b[38;5;34m0\u001b[0m │ -                 │\n",
              "│ (\u001b[38;5;33mInputLayer\u001b[0m)        │                   │            │                   │\n",
              "├─────────────────────┼───────────────────┼────────────┼───────────────────┤\n",
              "│ embedding_6         │ (\u001b[38;5;45mNone\u001b[0m, \u001b[38;5;34m62\u001b[0m, \u001b[38;5;34m128\u001b[0m)   │  \u001b[38;5;34m9,279,744\u001b[0m │ input_layer_2[\u001b[38;5;34m0\u001b[0m]… │\n",
              "│ (\u001b[38;5;33mEmbedding\u001b[0m)         │                   │            │                   │\n",
              "├─────────────────────┼───────────────────┼────────────┼───────────────────┤\n",
              "│ embedding_7         │ (\u001b[38;5;45mNone\u001b[0m, \u001b[38;5;34m18\u001b[0m, \u001b[38;5;34m128\u001b[0m)   │  \u001b[38;5;34m4,029,824\u001b[0m │ input_layer_3[\u001b[38;5;34m0\u001b[0m]… │\n",
              "│ (\u001b[38;5;33mEmbedding\u001b[0m)         │                   │            │                   │\n",
              "├─────────────────────┼───────────────────┼────────────┼───────────────────┤\n",
              "│ lstm_1 (\u001b[38;5;33mLSTM\u001b[0m)       │ [(\u001b[38;5;45mNone\u001b[0m, \u001b[38;5;34m62\u001b[0m, \u001b[38;5;34m256\u001b[0m), │    \u001b[38;5;34m394,240\u001b[0m │ embedding_6[\u001b[38;5;34m0\u001b[0m][\u001b[38;5;34m0\u001b[0m] │\n",
              "│                     │ (\u001b[38;5;45mNone\u001b[0m, \u001b[38;5;34m256\u001b[0m),      │            │                   │\n",
              "│                     │ (\u001b[38;5;45mNone\u001b[0m, \u001b[38;5;34m256\u001b[0m)]      │            │                   │\n",
              "├─────────────────────┼───────────────────┼────────────┼───────────────────┤\n",
              "│ lstm_2 (\u001b[38;5;33mLSTM\u001b[0m)       │ [(\u001b[38;5;45mNone\u001b[0m, \u001b[38;5;34m18\u001b[0m, \u001b[38;5;34m256\u001b[0m), │    \u001b[38;5;34m394,240\u001b[0m │ embedding_7[\u001b[38;5;34m0\u001b[0m][\u001b[38;5;34m0\u001b[0m… │\n",
              "│                     │ (\u001b[38;5;45mNone\u001b[0m, \u001b[38;5;34m256\u001b[0m),      │            │ lstm_1[\u001b[38;5;34m0\u001b[0m][\u001b[38;5;34m1\u001b[0m],     │\n",
              "│                     │ (\u001b[38;5;45mNone\u001b[0m, \u001b[38;5;34m256\u001b[0m)]      │            │ lstm_1[\u001b[38;5;34m0\u001b[0m][\u001b[38;5;34m2\u001b[0m]      │\n",
              "├─────────────────────┼───────────────────┼────────────┼───────────────────┤\n",
              "│ additive_attention  │ (\u001b[38;5;45mNone\u001b[0m, \u001b[38;5;34m18\u001b[0m, \u001b[38;5;34m256\u001b[0m)   │        \u001b[38;5;34m256\u001b[0m │ lstm_2[\u001b[38;5;34m0\u001b[0m][\u001b[38;5;34m0\u001b[0m],     │\n",
              "│ (\u001b[38;5;33mAdditiveAttention\u001b[0m) │                   │            │ lstm_1[\u001b[38;5;34m0\u001b[0m][\u001b[38;5;34m0\u001b[0m]      │\n",
              "├─────────────────────┼───────────────────┼────────────┼───────────────────┤\n",
              "│ concatenate_1       │ (\u001b[38;5;45mNone\u001b[0m, \u001b[38;5;34m18\u001b[0m, \u001b[38;5;34m512\u001b[0m)   │          \u001b[38;5;34m0\u001b[0m │ additive_attenti… │\n",
              "│ (\u001b[38;5;33mConcatenate\u001b[0m)       │                   │            │ lstm_2[\u001b[38;5;34m0\u001b[0m][\u001b[38;5;34m0\u001b[0m]      │\n",
              "├─────────────────────┼───────────────────┼────────────┼───────────────────┤\n",
              "│ time_distributed    │ (\u001b[38;5;45mNone\u001b[0m, \u001b[38;5;34m18\u001b[0m, \u001b[38;5;34m31483\u001b[0m) │ \u001b[38;5;34m16,150,779\u001b[0m │ concatenate_1[\u001b[38;5;34m0\u001b[0m]… │\n",
              "│ (\u001b[38;5;33mTimeDistributed\u001b[0m)   │                   │            │                   │\n",
              "└─────────────────────┴───────────────────┴────────────┴───────────────────┘\n"
            ],
            "text/html": [
              "<pre style=\"white-space:pre;overflow-x:auto;line-height:normal;font-family:Menlo,'DejaVu Sans Mono',consolas,'Courier New',monospace\">┏━━━━━━━━━━━━━━━━━━━━━┳━━━━━━━━━━━━━━━━━━━┳━━━━━━━━━━━━┳━━━━━━━━━━━━━━━━━━━┓\n",
              "┃<span style=\"font-weight: bold\"> Layer (type)        </span>┃<span style=\"font-weight: bold\"> Output Shape      </span>┃<span style=\"font-weight: bold\">    Param # </span>┃<span style=\"font-weight: bold\"> Connected to      </span>┃\n",
              "┡━━━━━━━━━━━━━━━━━━━━━╇━━━━━━━━━━━━━━━━━━━╇━━━━━━━━━━━━╇━━━━━━━━━━━━━━━━━━━┩\n",
              "│ input_layer_2       │ (<span style=\"color: #00d7ff; text-decoration-color: #00d7ff\">None</span>, <span style=\"color: #00af00; text-decoration-color: #00af00\">62</span>)        │          <span style=\"color: #00af00; text-decoration-color: #00af00\">0</span> │ -                 │\n",
              "│ (<span style=\"color: #0087ff; text-decoration-color: #0087ff\">InputLayer</span>)        │                   │            │                   │\n",
              "├─────────────────────┼───────────────────┼────────────┼───────────────────┤\n",
              "│ input_layer_3       │ (<span style=\"color: #00d7ff; text-decoration-color: #00d7ff\">None</span>, <span style=\"color: #00af00; text-decoration-color: #00af00\">18</span>)        │          <span style=\"color: #00af00; text-decoration-color: #00af00\">0</span> │ -                 │\n",
              "│ (<span style=\"color: #0087ff; text-decoration-color: #0087ff\">InputLayer</span>)        │                   │            │                   │\n",
              "├─────────────────────┼───────────────────┼────────────┼───────────────────┤\n",
              "│ embedding_6         │ (<span style=\"color: #00d7ff; text-decoration-color: #00d7ff\">None</span>, <span style=\"color: #00af00; text-decoration-color: #00af00\">62</span>, <span style=\"color: #00af00; text-decoration-color: #00af00\">128</span>)   │  <span style=\"color: #00af00; text-decoration-color: #00af00\">9,279,744</span> │ input_layer_2[<span style=\"color: #00af00; text-decoration-color: #00af00\">0</span>]… │\n",
              "│ (<span style=\"color: #0087ff; text-decoration-color: #0087ff\">Embedding</span>)         │                   │            │                   │\n",
              "├─────────────────────┼───────────────────┼────────────┼───────────────────┤\n",
              "│ embedding_7         │ (<span style=\"color: #00d7ff; text-decoration-color: #00d7ff\">None</span>, <span style=\"color: #00af00; text-decoration-color: #00af00\">18</span>, <span style=\"color: #00af00; text-decoration-color: #00af00\">128</span>)   │  <span style=\"color: #00af00; text-decoration-color: #00af00\">4,029,824</span> │ input_layer_3[<span style=\"color: #00af00; text-decoration-color: #00af00\">0</span>]… │\n",
              "│ (<span style=\"color: #0087ff; text-decoration-color: #0087ff\">Embedding</span>)         │                   │            │                   │\n",
              "├─────────────────────┼───────────────────┼────────────┼───────────────────┤\n",
              "│ lstm_1 (<span style=\"color: #0087ff; text-decoration-color: #0087ff\">LSTM</span>)       │ [(<span style=\"color: #00d7ff; text-decoration-color: #00d7ff\">None</span>, <span style=\"color: #00af00; text-decoration-color: #00af00\">62</span>, <span style=\"color: #00af00; text-decoration-color: #00af00\">256</span>), │    <span style=\"color: #00af00; text-decoration-color: #00af00\">394,240</span> │ embedding_6[<span style=\"color: #00af00; text-decoration-color: #00af00\">0</span>][<span style=\"color: #00af00; text-decoration-color: #00af00\">0</span>] │\n",
              "│                     │ (<span style=\"color: #00d7ff; text-decoration-color: #00d7ff\">None</span>, <span style=\"color: #00af00; text-decoration-color: #00af00\">256</span>),      │            │                   │\n",
              "│                     │ (<span style=\"color: #00d7ff; text-decoration-color: #00d7ff\">None</span>, <span style=\"color: #00af00; text-decoration-color: #00af00\">256</span>)]      │            │                   │\n",
              "├─────────────────────┼───────────────────┼────────────┼───────────────────┤\n",
              "│ lstm_2 (<span style=\"color: #0087ff; text-decoration-color: #0087ff\">LSTM</span>)       │ [(<span style=\"color: #00d7ff; text-decoration-color: #00d7ff\">None</span>, <span style=\"color: #00af00; text-decoration-color: #00af00\">18</span>, <span style=\"color: #00af00; text-decoration-color: #00af00\">256</span>), │    <span style=\"color: #00af00; text-decoration-color: #00af00\">394,240</span> │ embedding_7[<span style=\"color: #00af00; text-decoration-color: #00af00\">0</span>][<span style=\"color: #00af00; text-decoration-color: #00af00\">0</span>… │\n",
              "│                     │ (<span style=\"color: #00d7ff; text-decoration-color: #00d7ff\">None</span>, <span style=\"color: #00af00; text-decoration-color: #00af00\">256</span>),      │            │ lstm_1[<span style=\"color: #00af00; text-decoration-color: #00af00\">0</span>][<span style=\"color: #00af00; text-decoration-color: #00af00\">1</span>],     │\n",
              "│                     │ (<span style=\"color: #00d7ff; text-decoration-color: #00d7ff\">None</span>, <span style=\"color: #00af00; text-decoration-color: #00af00\">256</span>)]      │            │ lstm_1[<span style=\"color: #00af00; text-decoration-color: #00af00\">0</span>][<span style=\"color: #00af00; text-decoration-color: #00af00\">2</span>]      │\n",
              "├─────────────────────┼───────────────────┼────────────┼───────────────────┤\n",
              "│ additive_attention  │ (<span style=\"color: #00d7ff; text-decoration-color: #00d7ff\">None</span>, <span style=\"color: #00af00; text-decoration-color: #00af00\">18</span>, <span style=\"color: #00af00; text-decoration-color: #00af00\">256</span>)   │        <span style=\"color: #00af00; text-decoration-color: #00af00\">256</span> │ lstm_2[<span style=\"color: #00af00; text-decoration-color: #00af00\">0</span>][<span style=\"color: #00af00; text-decoration-color: #00af00\">0</span>],     │\n",
              "│ (<span style=\"color: #0087ff; text-decoration-color: #0087ff\">AdditiveAttention</span>) │                   │            │ lstm_1[<span style=\"color: #00af00; text-decoration-color: #00af00\">0</span>][<span style=\"color: #00af00; text-decoration-color: #00af00\">0</span>]      │\n",
              "├─────────────────────┼───────────────────┼────────────┼───────────────────┤\n",
              "│ concatenate_1       │ (<span style=\"color: #00d7ff; text-decoration-color: #00d7ff\">None</span>, <span style=\"color: #00af00; text-decoration-color: #00af00\">18</span>, <span style=\"color: #00af00; text-decoration-color: #00af00\">512</span>)   │          <span style=\"color: #00af00; text-decoration-color: #00af00\">0</span> │ additive_attenti… │\n",
              "│ (<span style=\"color: #0087ff; text-decoration-color: #0087ff\">Concatenate</span>)       │                   │            │ lstm_2[<span style=\"color: #00af00; text-decoration-color: #00af00\">0</span>][<span style=\"color: #00af00; text-decoration-color: #00af00\">0</span>]      │\n",
              "├─────────────────────┼───────────────────┼────────────┼───────────────────┤\n",
              "│ time_distributed    │ (<span style=\"color: #00d7ff; text-decoration-color: #00d7ff\">None</span>, <span style=\"color: #00af00; text-decoration-color: #00af00\">18</span>, <span style=\"color: #00af00; text-decoration-color: #00af00\">31483</span>) │ <span style=\"color: #00af00; text-decoration-color: #00af00\">16,150,779</span> │ concatenate_1[<span style=\"color: #00af00; text-decoration-color: #00af00\">0</span>]… │\n",
              "│ (<span style=\"color: #0087ff; text-decoration-color: #0087ff\">TimeDistributed</span>)   │                   │            │                   │\n",
              "└─────────────────────┴───────────────────┴────────────┴───────────────────┘\n",
              "</pre>\n"
            ]
          },
          "metadata": {}
        },
        {
          "output_type": "display_data",
          "data": {
            "text/plain": [
              "\u001b[1m Total params: \u001b[0m\u001b[38;5;34m30,249,083\u001b[0m (115.39 MB)\n"
            ],
            "text/html": [
              "<pre style=\"white-space:pre;overflow-x:auto;line-height:normal;font-family:Menlo,'DejaVu Sans Mono',consolas,'Courier New',monospace\"><span style=\"font-weight: bold\"> Total params: </span><span style=\"color: #00af00; text-decoration-color: #00af00\">30,249,083</span> (115.39 MB)\n",
              "</pre>\n"
            ]
          },
          "metadata": {}
        },
        {
          "output_type": "display_data",
          "data": {
            "text/plain": [
              "\u001b[1m Trainable params: \u001b[0m\u001b[38;5;34m30,249,083\u001b[0m (115.39 MB)\n"
            ],
            "text/html": [
              "<pre style=\"white-space:pre;overflow-x:auto;line-height:normal;font-family:Menlo,'DejaVu Sans Mono',consolas,'Courier New',monospace\"><span style=\"font-weight: bold\"> Trainable params: </span><span style=\"color: #00af00; text-decoration-color: #00af00\">30,249,083</span> (115.39 MB)\n",
              "</pre>\n"
            ]
          },
          "metadata": {}
        },
        {
          "output_type": "display_data",
          "data": {
            "text/plain": [
              "\u001b[1m Non-trainable params: \u001b[0m\u001b[38;5;34m0\u001b[0m (0.00 B)\n"
            ],
            "text/html": [
              "<pre style=\"white-space:pre;overflow-x:auto;line-height:normal;font-family:Menlo,'DejaVu Sans Mono',consolas,'Courier New',monospace\"><span style=\"font-weight: bold\"> Non-trainable params: </span><span style=\"color: #00af00; text-decoration-color: #00af00\">0</span> (0.00 B)\n",
              "</pre>\n"
            ]
          },
          "metadata": {}
        }
      ]
    },
    {
      "cell_type": "markdown",
      "source": [
        "# 4. 모델 훈련"
      ],
      "metadata": {
        "id": "jrSxLU93xcJq"
      }
    },
    {
      "cell_type": "code",
      "source": [
        "# 모델 학습\n",
        "history = model.fit(\n",
        "    [train_text_padded, decoder_input_train],\n",
        "    decoder_target_train.reshape(decoder_target_train.shape[0], decoder_target_train.shape[1], 1),\n",
        "    batch_size=batch_size,\n",
        "    epochs=epochs,\n",
        "    validation_data=(\n",
        "        [val_text_padded, decoder_input_val],\n",
        "        decoder_target_val.reshape(decoder_target_val.shape[0], decoder_target_val.shape[1], 1)\n",
        "    )\n",
        ")\n",
        "\n",
        "# 학습 과정 시각화\n",
        "plt.figure(figsize=(12, 4))\n",
        "plt.subplot(1, 2, 1)\n",
        "plt.plot(history.history['loss'], label='Train Loss')\n",
        "plt.plot(history.history['val_loss'], label='Validation Loss')\n",
        "plt.title('Loss')\n",
        "plt.xlabel('Epochs')\n",
        "plt.ylabel('Loss')\n",
        "plt.legend()\n",
        "\n",
        "plt.subplot(1, 2, 2)\n",
        "plt.plot(history.history['accuracy'], label='Train Accuracy')\n",
        "plt.plot(history.history['val_accuracy'], label='Validation Accuracy')\n",
        "plt.title('Accuracy')\n",
        "plt.xlabel('Epochs')\n",
        "plt.ylabel('Accuracy')\n",
        "plt.legend()\n",
        "plt.tight_layout()\n",
        "plt.show()"
      ],
      "metadata": {
        "colab": {
          "base_uri": "https://localhost:8080/",
          "height": 742
        },
        "id": "_mOJIVepvMl6",
        "outputId": "b14b1cc1-6b27-40a3-e5b9-45d6b28dde90"
      },
      "execution_count": null,
      "outputs": [
        {
          "output_type": "stream",
          "name": "stdout",
          "text": [
            "Epoch 1/10\n",
            "\u001b[1m1246/1246\u001b[0m \u001b[32m━━━━━━━━━━━━━━━━━━━━\u001b[0m\u001b[37m\u001b[0m \u001b[1m193s\u001b[0m 149ms/step - accuracy: 0.4716 - loss: 4.6165 - val_accuracy: 0.5157 - val_loss: 3.6582\n",
            "Epoch 2/10\n",
            "\u001b[1m1246/1246\u001b[0m \u001b[32m━━━━━━━━━━━━━━━━━━━━\u001b[0m\u001b[37m\u001b[0m \u001b[1m187s\u001b[0m 150ms/step - accuracy: 0.5175 - loss: 3.5502 - val_accuracy: 0.5442 - val_loss: 3.1439\n",
            "Epoch 3/10\n",
            "\u001b[1m1246/1246\u001b[0m \u001b[32m━━━━━━━━━━━━━━━━━━━━\u001b[0m\u001b[37m\u001b[0m \u001b[1m188s\u001b[0m 151ms/step - accuracy: 0.5493 - loss: 2.9596 - val_accuracy: 0.5636 - val_loss: 2.8736\n",
            "Epoch 4/10\n",
            "\u001b[1m1246/1246\u001b[0m \u001b[32m━━━━━━━━━━━━━━━━━━━━\u001b[0m\u001b[37m\u001b[0m \u001b[1m201s\u001b[0m 150ms/step - accuracy: 0.5799 - loss: 2.5061 - val_accuracy: 0.5778 - val_loss: 2.7203\n",
            "Epoch 5/10\n",
            "\u001b[1m1246/1246\u001b[0m \u001b[32m━━━━━━━━━━━━━━━━━━━━\u001b[0m\u001b[37m\u001b[0m \u001b[1m202s\u001b[0m 150ms/step - accuracy: 0.6115 - loss: 2.1281 - val_accuracy: 0.5828 - val_loss: 2.6578\n",
            "Epoch 6/10\n",
            "\u001b[1m1246/1246\u001b[0m \u001b[32m━━━━━━━━━━━━━━━━━━━━\u001b[0m\u001b[37m\u001b[0m \u001b[1m202s\u001b[0m 150ms/step - accuracy: 0.6490 - loss: 1.8150 - val_accuracy: 0.5863 - val_loss: 2.6351\n",
            "Epoch 7/10\n",
            "\u001b[1m1246/1246\u001b[0m \u001b[32m━━━━━━━━━━━━━━━━━━━━\u001b[0m\u001b[37m\u001b[0m \u001b[1m186s\u001b[0m 149ms/step - accuracy: 0.6816 - loss: 1.5768 - val_accuracy: 0.5865 - val_loss: 2.6408\n",
            "Epoch 8/10\n",
            "\u001b[1m1246/1246\u001b[0m \u001b[32m━━━━━━━━━━━━━━━━━━━━\u001b[0m\u001b[37m\u001b[0m \u001b[1m202s\u001b[0m 149ms/step - accuracy: 0.7127 - loss: 1.3782 - val_accuracy: 0.5876 - val_loss: 2.6637\n",
            "Epoch 9/10\n",
            "\u001b[1m1246/1246\u001b[0m \u001b[32m━━━━━━━━━━━━━━━━━━━━\u001b[0m\u001b[37m\u001b[0m \u001b[1m204s\u001b[0m 151ms/step - accuracy: 0.7406 - loss: 1.2110 - val_accuracy: 0.5874 - val_loss: 2.6966\n",
            "Epoch 10/10\n",
            "\u001b[1m1246/1246\u001b[0m \u001b[32m━━━━━━━━━━━━━━━━━━━━\u001b[0m\u001b[37m\u001b[0m \u001b[1m202s\u001b[0m 150ms/step - accuracy: 0.7665 - loss: 1.0676 - val_accuracy: 0.5861 - val_loss: 2.7474\n"
          ]
        },
        {
          "output_type": "display_data",
          "data": {
            "text/plain": [
              "<Figure size 1200x400 with 2 Axes>"
            ],
            "image/png": "[encoded data removed]"
          },
          "metadata": {}
        }
      ]
    },
    {
      "cell_type": "markdown",
      "source": [
        "# 5. 인퍼런스 모델 구현 및 모델 테스트"
      ],
      "metadata": {
        "id": "UiPaVy5uxhlv"
      }
    },
    {
      "cell_type": "code",
      "source": [
        "# 추론 모델 구현\n",
        "# 1. 인코더 추론 모델\n",
        "encoder_model = Model(encoder_inputs, [encoder_outputs, state_h, state_c])\n",
        "\n",
        "# 2. 디코더 추론 모델을 위한 입력들\n",
        "decoder_state_input_h = Input(shape=(lstm_units,))\n",
        "decoder_state_input_c = Input(shape=(lstm_units,))\n",
        "encoder_outputs_input = Input(shape=(max_text_len, lstm_units))\n",
        "\n",
        "# 디코더 임베딩 레이어 재사용\n",
        "dec_emb2 = dec_emb  # 이미 학습된 임베딩 레이어\n",
        "\n",
        "# 디코더 LSTM 레이어 재사용\n",
        "decoder_outputs2, state_h2, state_c2 = decoder_lstm(\n",
        "    dec_emb2, initial_state=[decoder_state_input_h, decoder_state_input_c]\n",
        ")\n",
        "\n",
        "# 어텐션 레이어 적용\n",
        "attention_context = attention([decoder_outputs2, encoder_outputs_input])\n",
        "\n",
        "# 어텐션 컨텍스트와 디코더 출력 결합\n",
        "decoder_combined_context2 = Concatenate()([attention_context, decoder_outputs2])\n",
        "\n",
        "# 출력 레이어\n",
        "decoder_outputs2 = TimeDistributed(Dense(headline_vocab_size, activation=\"softmax\"))(decoder_combined_context2)\n",
        "\n",
        "# 디코더 모델\n",
        "decoder_model = Model(\n",
        "    [decoder_inputs, encoder_outputs_input, decoder_state_input_h, decoder_state_input_c],\n",
        "    [decoder_outputs2, state_h2, state_c2]\n",
        ")\n",
        "\n",
        "# 예측 함수 정의\n",
        "def decode_sequence(input_seq):\n",
        "    # 인코더를 통해 입력 시퀀스 인코딩\n",
        "    enc_outs, enc_h, enc_c = encoder_model.predict(input_seq, verbose=0)\n",
        "\n",
        "    # 디코더 입력 초기화 (<start> 토큰으로 시작)\n",
        "    target_seq = np.zeros((1, max_headline_len))\n",
        "    target_seq[0, 0] = start_token\n",
        "\n",
        "    # 출력 시퀀스를 저장할 리스트\n",
        "    decoded_tokens = []\n",
        "\n",
        "    # 디코딩 루프\n",
        "    for i in range(max_headline_len - 1):\n",
        "        # 현재 상태에서 출력 토큰 예측\n",
        "        output_tokens, h, c = decoder_model.predict(\n",
        "            [target_seq, enc_outs, enc_h, enc_c],\n",
        "            verbose=0\n",
        "        )\n",
        "\n",
        "        # 다음 토큰 예측 (가장 확률이 높은 토큰)\n",
        "        sampled_token_index = np.argmax(output_tokens[0, 0, :])\n",
        "\n",
        "        # <end> 토큰이나 패딩이면 종료\n",
        "        if sampled_token_index == end_token or sampled_token_index == 0:\n",
        "            break\n",
        "\n",
        "        # 토큰 저장\n",
        "        decoded_tokens.append(sampled_token_index)\n",
        "\n",
        "        # 다음 타임스텝을 위해 타겟 시퀀스와 상태 업데이트\n",
        "        target_seq = np.zeros((1, max_headline_len))\n",
        "        target_seq[0, 0] = sampled_token_index\n",
        "        enc_h, enc_c = h, c\n",
        "\n",
        "    return decoded_tokens\n",
        "\n",
        "# 토큰 시퀀스를 텍스트로 변환하는 함수\n",
        "def seq_to_text(seq, tokenizer):\n",
        "    index_to_word = {v: k for k, v in tokenizer.word_index.items()}\n",
        "    return ' '.join([index_to_word.get(i, '') for i in seq])\n",
        "\n",
        "# 테스트 데이터로 모델 평가\n",
        "test_samples = min(10, len(test_text_padded))  # 테스트 샘플 수 제한\n",
        "for i in range(test_samples):\n",
        "    input_seq = test_text_padded[i:i+1]\n",
        "    decoded_tokens = decode_sequence(input_seq)\n",
        "\n",
        "    predicted_headline = seq_to_text(decoded_tokens, headline_tokenizer)\n",
        "    actual_headline = seq_to_text(test_headline_seqs[i], headline_tokenizer)\n",
        "    original_text = test_texts[i][:200] + \"...\"  # 원본 텍스트의 일부만 표시\n",
        "\n",
        "    print(f\"\\n샘플 {i+1}:\")\n",
        "    print(f\"원본 텍스트: {original_text}\")\n",
        "    print(f\"실제 헤드라인: {actual_headline}\")\n",
        "    print(f\"예측 헤드라인: {predicted_headline}\")"
      ],
      "metadata": {
        "colab": {
          "base_uri": "https://localhost:8080/"
        },
        "id": "IlCqQKkTxISI",
        "outputId": "a436cd18-e661-466a-ee48-3c3cfd69be41"
      },
      "execution_count": null,
      "outputs": [
        {
          "output_type": "stream",
          "name": "stdout",
          "text": [
            "\n",
            "샘플 1:\n",
            "원본 텍스트: former south korean dentist seunggun lee mobile payments app toss raised million funding eight failed apps since earlier lee used work dentist hospital arm samsung group quit job found mobile payments...\n",
            "실제 헤드라인: ex dentist new mobile app gets mn after failed apps\n",
            "예측 헤드라인: ian nortje kritika kritika wicketless wicketless wicketless wicketless wicketless wicketless wicketless wicketless wicketless wicketless wicketless wicketless wicketless\n",
            "\n",
            "샘플 2:\n",
            "원본 텍스트: lg testing two robot prototypes provide assistance travellers clean floors respectively south korea largest airport incheon international airport guiding robot speak korean english chinese japanese sc...\n",
            "실제 헤드라인: lg tests robots to guide passengers in airport clean trash\n",
            "예측 헤드라인: premonition traitor sq despacito sq traitor sq ayyasamy sq sq megapixel traitor vulnerable vulnerable vulnerable vulnerable vulnerable\n",
            "\n",
            "샘플 3:\n",
            "원본 텍스트: reacting chilli powder attack tuesday delhi cm arvind kejriwal said opposition trying get killed attacked four times two years minor issue attacks taking place ordered added kejriwal past slapped atta...\n",
            "실제 헤드라인: opposition is trying to kill me delhi cm on chilli powder attack\n",
            "예측 헤드라인: vital emissions defender invictus tnt emissions tarantino tarantino tarantino tarantino tarantino tarantino tarantino tarantino tarantino tarantino tarantino\n",
            "\n",
            "샘플 4:\n",
            "원본 텍스트: policeman uttar pradesh kanpur touched feet state minister satish mahana apologise vehicle scraped mahana car policeman claimed vehicle touched minister car trying make space busy road touched mahana ...\n",
            "실제 헤드라인: policeman touches up minister feet for his car\n",
            "예측 헤드라인: dowry size size size emiratis talks talks cheats barmy barmy barmy barmy barmy barmy barmy barmy barmy\n",
            "\n",
            "샘플 5:\n",
            "원본 텍스트: actor shah rukh khan said would love make film indian epic mahabharat think budget take subject like mahabharat make less scale baahubali even larger one added srk...\n",
            "실제 헤드라인: i would love to make mahabharat film but do not have budget srk\n",
            "예측 헤드라인: amarch luru airmail airmail keywords defender loot admiral admiral admiral admiral admiral admiral admiral admiral admiral admiral\n",
            "\n",
            "샘플 6:\n",
            "원본 텍스트: slamming congress leader p chidambaram criticism election commission delay announcing gujarat election dates bjp friday said views ec jaundiced eyes asserting congress president sonia gandhi remote co...\n",
            "실제 헤드라인: chidambaram sees ec from â bjp\n",
            "예측 헤드라인: ford injury waiting shuttler injury waiting ishaq apes notrumpy moisture ishaq ford ishaq ford ishaq kendras ishaq\n",
            "\n",
            "샘플 7:\n",
            "원본 텍스트: mns leader shalini thackeray said oppose salman khan notiger zinda hai takes prime time screens state marathi films get fewer shows raj thackeray reportedly also wrote cinema hall owners warning marat...\n",
            "실제 헤드라인: will oppose salman film if marathi film gets less shows mns\n",
            "예측 헤드라인: alfred motherhood hasmukh motherhood defender hasmukh mgr orbitz rightly mgr rightly mgr rightly mgr rightly mgr rightly\n",
            "\n",
            "샘플 8:\n",
            "원본 텍스트: former apple ceo john sculley said upcoming iphone better battery increasing number features phone battery life becomes big issue sculley said features expected iphone led screens wireless charging al...\n",
            "실제 헤드라인: battery life of iphone becomes big issue says ex apple ceo\n",
            "예측 헤드라인: learningâ zeman tap mgr mgr challenged apes mgr apes wells apes wells apes mgr mgr mgr mgr\n",
            "\n",
            "샘플 9:\n",
            "원본 텍스트: former pakistan skipper shoaib malik criticised referring indian pacer mohammed shami religion live twitter session malik picked shami favourite indian bowler said muslim guy responding user tweeted w...\n",
            "실제 헤드라인: shoaib malik slammed for referring to shami religion\n",
            "예측 헤드라인: lekhi deepotsav inside inside inside inside inside pears pears pears pears pears pears pears pears pears pears\n",
            "\n",
            "샘플 10:\n",
            "원본 텍스트: recovery us made rifle meant pakistan army encounter militants j k shows force complicity fuelling insurgency major general bs raju said tuesday colt carbine recovered site encounter three jaish e moh...\n",
            "실제 헤드라인: seized us made gun shows pak army hand in militancy army\n",
            "예측 헤드라인: misa motorola unpunished unpunished unpunished buggery holocaust seal poorna poorna poorna poorna poorna poorna poorna poorna poorna\n"
          ]
        }
      ]
    },
    {
      "cell_type": "markdown",
      "source": [
        "# 6. 모델 성능 평가"
      ],
      "metadata": {
        "id": "8WJNxBm8xxPB"
      }
    },
    {
      "cell_type": "code",
      "source": [
        "!pip install rouge\n",
        "\n",
        "from nltk.translate.bleu_score import sentence_bleu\n",
        "from rouge import Rouge\n",
        "\n",
        "# Rouge 패키지 설치가 필요한 경우\n",
        "!pip install rouge\n",
        "\n",
        "nltk.download('wordnet')\n",
        "rouge = Rouge()"
      ],
      "metadata": {
        "colab": {
          "base_uri": "https://localhost:8080/"
        },
        "id": "vvyGwPUOxOn3",
        "outputId": "c1d6bfa2-87b8-468e-e91b-9284b33403ae"
      },
      "execution_count": null,
      "outputs": [
        {
          "output_type": "stream",
          "name": "stdout",
          "text": [
            "Requirement already satisfied: rouge in /usr/local/lib/python3.11/dist-packages (1.0.1)\n",
            "Requirement already satisfied: six in /usr/local/lib/python3.11/dist-packages (from rouge) (1.17.0)\n",
            "Requirement already satisfied: rouge in /usr/local/lib/python3.11/dist-packages (1.0.1)\n",
            "Requirement already satisfied: six in /usr/local/lib/python3.11/dist-packages (from rouge) (1.17.0)\n"
          ]
        },
        {
          "output_type": "stream",
          "name": "stderr",
          "text": [
            "[nltk_data] Downloading package wordnet to /root/nltk_data...\n",
            "[nltk_data]   Package wordnet is already up-to-date!\n"
          ]
        },
        {
          "output_type": "stream",
          "name": "stdout",
          "text": [
            "\n",
            "모델 성능 평가 (테스트 샘플 100개):\n",
            "평균 BLEU 점수: 0.0000\n",
            "평균 ROUGE-1 점수: 0.0000\n",
            "평균 ROUGE-2 점수: 0.0000\n",
            "평균 ROUGE-L 점수: 0.0000\n",
            "모델이 저장되었습니다.\n"
          ]
        }
      ]
    },
    {
      "cell_type": "code",
      "source": [
        "def calculate_metrics(reference, hypothesis):\n",
        "    # BLEU 점수 계산\n",
        "    reference_tokens = [reference.split()]\n",
        "    hypothesis_tokens = hypothesis.split()\n",
        "\n",
        "    # hypothesis가 비어있는 경우 처리\n",
        "    if not hypothesis_tokens:\n",
        "        return {'bleu': 0, 'rouge-1': 0, 'rouge-2': 0, 'rouge-l': 0}\n",
        "\n",
        "    bleu_score = sentence_bleu(reference_tokens, hypothesis_tokens)\n",
        "\n",
        "    # ROUGE 점수 계산\n",
        "    try:\n",
        "        # hypothesis나 reference가 비어있으면 오류 발생할 수 있음\n",
        "        if not hypothesis or not reference:\n",
        "            return {'bleu': 0, 'rouge-1': 0, 'rouge-2': 0, 'rouge-l': 0}\n",
        "\n",
        "        rouge_scores = rouge.get_scores(hypothesis, reference)[0]\n",
        "        return {\n",
        "            'bleu': bleu_score,\n",
        "            'rouge-1': rouge_scores['rouge-1']['f'],\n",
        "            'rouge-2': rouge_scores['rouge-2']['f'],\n",
        "            'rouge-l': rouge_scores['rouge-l']['f']\n",
        "        }\n",
        "    except Exception as e:\n",
        "        print(f\"ROUGE 계산 중 오류 발생: {e}\")\n",
        "        # ROUGE 계산 실패 시\n",
        "        return {\n",
        "            'bleu': bleu_score,\n",
        "            'rouge-1': 0,\n",
        "            'rouge-2': 0,\n",
        "            'rouge-l': 0\n",
        "        }\n",
        "\n",
        "\n",
        "bleu_scores = []\n",
        "rouge1_scores = []\n",
        "rouge2_scores = []\n",
        "rougel_scores = []\n",
        "\n",
        "test_samples = min(100, len(test_text_padded))\n",
        "\n",
        "for i in range(test_samples):\n",
        "    input_seq = test_text_padded[i:i+1]\n",
        "    decoded_tokens = decode_sequence(input_seq)\n",
        "\n",
        "    predicted_headline = seq_to_text(decoded_tokens, headline_tokenizer)\n",
        "    actual_headline = seq_to_text(test_headline_seqs[i], headline_tokenizer)\n",
        "\n",
        "    # 디버깅 출력\n",
        "    if i < 5:  # 처음 5개 샘플만 출력\n",
        "        print(f\"\\n샘플 {i+1}:\")\n",
        "        print(f\"실제: '{actual_headline}'\")\n",
        "        print(f\"예측: '{predicted_headline}'\")\n",
        "\n",
        "    # 빈 예측이면 건너뜀\n",
        "    if not predicted_headline or not actual_headline:\n",
        "        print(f\"샘플 {i+1}: 빈 문자열 감지됨, 건너뜀\")\n",
        "        continue\n",
        "\n",
        "    try:\n",
        "        # ROUGE 점수 계산\n",
        "        rouge_scores = rouge.get_scores(predicted_headline, actual_headline)[0]\n",
        "\n",
        "        # BLEU 점수 계산\n",
        "        reference_tokens = [actual_headline.split()]\n",
        "        hypothesis_tokens = predicted_headline.split()\n",
        "        bleu_score = sentence_bleu(reference_tokens, hypothesis_tokens)\n",
        "\n",
        "        bleu_scores.append(bleu_score)\n",
        "        rouge1_scores.append(rouge_scores['rouge-1']['f'])\n",
        "        rouge2_scores.append(rouge_scores['rouge-2']['f'])\n",
        "        rougel_scores.append(rouge_scores['rouge-l']['f'])\n",
        "\n",
        "        if i < 5:  # 처음 5개 샘플의 점수 출력\n",
        "            print(f\"BLEU: {bleu_score:.4f}\")\n",
        "            print(f\"ROUGE-1: {rouge_scores['rouge-1']['f']:.4f}\")\n",
        "    except Exception as e:\n",
        "        print(f\"샘플 {i+1} 점수 계산 오류: {e}\")\n",
        "\n",
        "# 메트릭 출력\n",
        "if bleu_scores:\n",
        "    avg_bleu = np.mean(bleu_scores)\n",
        "    avg_rouge1 = np.mean(rouge1_scores)\n",
        "    avg_rouge2 = np.mean(rouge2_scores)\n",
        "    avg_rougel = np.mean(rougel_scores)\n",
        "\n",
        "    print(f\"\\n모델 성능 평가 (유효 샘플 {len(bleu_scores)}개):\")\n",
        "    print(f\"평균 BLEU 점수: {avg_bleu:.4f}\")\n",
        "    print(f\"평균 ROUGE-1 점수: {avg_rouge1:.4f}\")\n",
        "    print(f\"평균 ROUGE-2 점수: {avg_rouge2:.4f}\")\n",
        "    print(f\"평균 ROUGE-L 점수: {avg_rougel:.4f}\")\n",
        "else:\n",
        "    print(\"\\n유효한 평가 샘플이 없습니다.\")"
      ],
      "metadata": {
        "colab": {
          "base_uri": "https://localhost:8080/"
        },
        "id": "Nt2Izncj9ewe",
        "outputId": "6913b410-93ec-4731-84fb-714957d3043f"
      },
      "execution_count": null,
      "outputs": [
        {
          "output_type": "stream",
          "name": "stdout",
          "text": [
            "\n",
            "샘플 1:\n",
            "실제: 'ex dentist new mobile app gets mn after failed apps'\n",
            "예측: 'ian nortje kritika kritika wicketless wicketless wicketless wicketless wicketless wicketless wicketless wicketless wicketless wicketless wicketless wicketless wicketless'\n",
            "BLEU: 0.0000\n",
            "ROUGE-1: 0.0000\n",
            "\n",
            "샘플 2:\n",
            "실제: 'lg tests robots to guide passengers in airport clean trash'\n",
            "예측: 'premonition traitor sq despacito sq traitor sq ayyasamy sq sq megapixel traitor vulnerable vulnerable vulnerable vulnerable vulnerable'\n",
            "BLEU: 0.0000\n",
            "ROUGE-1: 0.0000\n",
            "\n",
            "샘플 3:\n",
            "실제: 'opposition is trying to kill me delhi cm on chilli powder attack'\n",
            "예측: 'vital emissions defender invictus tnt emissions tarantino tarantino tarantino tarantino tarantino tarantino tarantino tarantino tarantino tarantino tarantino'\n",
            "BLEU: 0.0000\n",
            "ROUGE-1: 0.0000\n",
            "\n",
            "샘플 4:\n",
            "실제: 'policeman touches up minister feet for his car'\n",
            "예측: 'dowry size size size emiratis talks talks cheats barmy barmy barmy barmy barmy barmy barmy barmy barmy'\n",
            "BLEU: 0.0000\n",
            "ROUGE-1: 0.0000\n",
            "\n",
            "샘플 5:\n",
            "실제: 'i would love to make mahabharat film but do not have budget srk'\n",
            "예측: 'amarch luru airmail airmail keywords defender loot admiral admiral admiral admiral admiral admiral admiral admiral admiral admiral'\n",
            "BLEU: 0.0000\n",
            "ROUGE-1: 0.0000\n",
            "\n",
            "모델 성능 평가 (유효 샘플 100개):\n",
            "평균 BLEU 점수: 0.0000\n",
            "평균 ROUGE-1 점수: 0.0000\n",
            "평균 ROUGE-2 점수: 0.0000\n",
            "평균 ROUGE-L 점수: 0.0000\n"
          ]
        }
      ]
    },
    {
      "cell_type": "markdown",
      "source": [
        "# 회고\n",
        "\n",
        "-배운점: 개인적으로 LLM이 가장 어렵다고 생각했는데 실제로 동작하는 과정을 수행해보니 좋았다.\n",
        "\n",
        "- 아쉬운 점: 학습 시간이 오래걸려 다양한 시도들을 못해본 것이 아쉽다.\n",
        "\n",
        "- 느낀 점: LLM에 코드가 어려워서 차근차근 다시 공부가 필요할 것 같다.\n",
        "\n",
        "- 어려웠던 점: 개인적으로 로컬에서 시도를 해보려고 했는데 버전, GPU 사용 등 문제가 너무 많아서 힘들었다."
      ],
      "metadata": {
        "id": "7_pw4Jrx33lG"
      }
    }
  ]
}